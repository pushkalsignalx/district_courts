{
 "cells": [
  {
   "cell_type": "code",
   "execution_count": 2,
   "id": "57b97175-a2fa-4e65-9158-168fb1c39f7d",
   "metadata": {},
   "outputs": [],
   "source": [
    "from bs4 import BeautifulSoup\n",
    "\n",
    "# Sample HTML content\n",
    "html_content = \"\"\"\n",
    "<div class='col border-top pt-1' id='showList2' style=''>\n",
    "    <div class='courtsDiv'>\n",
    "        <h3 class='h2class' tabindex='0'>Total Number of Establishments in Court Complex 1</h3>&nbsp;&nbsp;/&nbsp;&nbsp;\n",
    "        <h4 class='h2class' tabindex='0'>Total number of cases : 71</h4></div>\n",
    "    <div class='text-center w-100'>\n",
    "        <a class='noToken' style='color:#559DE7; font-weight:bold;text-decoration: underline;' href='#td_court_name_11'>\n",
    "        School Tribunal, Kolhapur:&nbsp;71</a></div>\n",
    "</div>\n",
    "<table id='dispTable' class='table table-fixed table-bordered table-responsive mt-2' id='titlehid'>\n",
    "    <thead>\n",
    "        <tr>\n",
    "            <th class='col-1' valign='top'>Sr No</th>\n",
    "            <th class='col-2' valign='top'>Case Type/Case Number/Case Year</th>\n",
    "            <th class='col-2' valign='top'>Petitioner Name versus Respondent Name</th>\n",
    "            <th class='col-2' valign='top'>View</th>\n",
    "        </tr>\n",
    "    </thead>\n",
    "    <tbody>\n",
    "        <tr><td colspan=3 id='td_court_name_11'>School Tribunal, Kolhapur<td></tr>\n",
    "        <tr><td>1</td>\n",
    "            <td>Appeal/6/2024</td>\n",
    "            <td>Jalindhar Laxman Gambhire<br>Vs</br>Lokraja Rajarshree Shahu Shikshan Sanstha Satara Through its President</td>\n",
    "            <td><a class='someclass' href='#' onClick=\\\"viewHistory(200100000062024,'MHSS090000202024',11,'','CScaseNumber',1,43,1010520,'CSpartyName')\\\">View</a></td>\n",
    "        </tr>\n",
    "    </tbody>\n",
    "</table>\n",
    "\"\"\"\n",
    "\n",
    "# Creating a BeautifulSoup object\n",
    "soup = BeautifulSoup(html_content, 'html.parser')\n",
    "\n",
    "# Locating the table by ID\n",
    "table = soup.find('tbody')\n",
    "\n",
    "# Extracting all rows from the table\n",
    "rows = table.find_all('onclick')\n",
    "\n",
    "# List to store each row's data\n",
    "data = []\n",
    "\n",
    "# Iterating over each row\n",
    "for row in rows:\n",
    "    # Extracting text from each cell\n",
    "    cols = [ele.text.strip() for ele in row.find_all(['td', 'th'])]\n",
    "    data.append(cols)  # Appending the cleaned cell data to the list\n",
    "\n"
   ]
  },
  {
   "cell_type": "code",
   "execution_count": 3,
   "id": "1096c821-f1fa-423f-92ab-89497b03d0a8",
   "metadata": {},
   "outputs": [
    {
     "name": "stdout",
     "output_type": "stream",
     "text": [
      "['School Tribunal, Kolhapur', '']\n",
      "['1', 'Appeal/6/2024', 'Jalindhar Laxman GambhireVsLokraja Rajarshree Shahu Shikshan Sanstha Satara Through its President', 'View']\n"
     ]
    }
   ],
   "source": [
    "\n",
    "# Printing the table data\n",
    "for row_data in data:\n",
    "    print(row_data)"
   ]
  },
  {
   "cell_type": "code",
   "execution_count": null,
   "id": "cfe2f497-2e95-4d58-a11d-0d1997d5331e",
   "metadata": {},
   "outputs": [],
   "source": []
  }
 ],
 "metadata": {
  "kernelspec": {
   "display_name": "Python 3 (ipykernel)",
   "language": "python",
   "name": "python3"
  },
  "language_info": {
   "codemirror_mode": {
    "name": "ipython",
    "version": 3
   },
   "file_extension": ".py",
   "mimetype": "text/x-python",
   "name": "python",
   "nbconvert_exporter": "python",
   "pygments_lexer": "ipython3",
   "version": "3.8.10"
  }
 },
 "nbformat": 4,
 "nbformat_minor": 5
}
